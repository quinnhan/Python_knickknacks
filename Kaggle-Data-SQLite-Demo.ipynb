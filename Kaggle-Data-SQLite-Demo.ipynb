{
 "cells": [
  {
   "cell_type": "markdown",
   "id": "122d5b57",
   "metadata": {},
   "source": [
    "# SQL practice SQLite3 in Python"
   ]
  },
  {
   "cell_type": "markdown",
   "id": "bc72b7ec",
   "metadata": {},
   "source": [
    "!pip install kaggle\n",
    " go on Kaggle to create a authorization token \n",
    " \n",
    " https://github.com/Kaggle/kaggle-api/blob/main/docs/README.md"
   ]
  },
  {
   "cell_type": "markdown",
   "id": "7cd9b156",
   "metadata": {},
   "source": [
    "### Download Data from Kaggle"
   ]
  },
  {
   "cell_type": "code",
   "execution_count": 1,
   "id": "184621bf",
   "metadata": {},
   "outputs": [
    {
     "name": "stdout",
     "output_type": "stream",
     "text": [
      "ref                                                         title                                           size  lastUpdated          downloadCount  voteCount  usabilityRating  \n",
      "----------------------------------------------------------  ---------------------------------------------  -----  -------------------  -------------  ---------  ---------------  \n",
      "sudarshan24byte/online-food-dataset                         Online Food Dataset                              3KB  2024-03-02 18:50:30          24285        484  0.9411765        \n",
      "bhavikjikadara/student-study-performance                    Student Study Performance                        9KB  2024-03-07 06:14:09          12013        154  1.0              \n",
      "sukhmandeepsinghbrar/housing-price-dataset                  Housing Price Dataset                          780KB  2024-04-04 19:45:43           1445         28  1.0              \n",
      "muhammadkashif724/netflix-tv-shows-2021                     Netflix TV Shows 2021                          384KB  2024-04-04 06:38:21           1294         33  0.9411765        \n",
      "sahilnbajaj/loans-data                                      Loans Data                                     213KB  2024-04-07 15:08:37            970         26  1.0              \n",
      "sahirmaharajj/air-pollution-dataset                         Air Pollution Dataset                          213KB  2024-04-07 13:14:48           1082         31  1.0              \n",
      "nbroad/gemma-rewrite-nbroad                                 gemma-rewrite-nbroad                             8MB  2024-03-03 04:52:39           1532         98  1.0              \n",
      "mohdshahnawazaadil/credit-card-dataset                      Credit Card Dataset                             66MB  2024-04-02 00:04:05            793         22  1.0              \n",
      "fatemehmehrparvar/obesity-levels                            Obesity Levels                                  58KB  2024-04-07 16:28:30           1209         36  0.88235295       \n",
      "sanyamgoyal401/customer-purchases-behaviour-dataset         Customer Purchases Behaviour Dataset             1MB  2024-04-06 18:42:01           1218         32  1.0              \n",
      "muhammadibrahimqasmi/stock-prices-for-meta-ticker-symbol    Stock Prices for META Ticker Symbol             11KB  2024-04-09 17:24:08            274         28  1.0              \n",
      "sahirmaharajj/electric-vehicle-population-size-2024         Electric Vehicle Population by Country (2024)  275KB  2024-03-30 19:16:06           2028         50  1.0              \n",
      "jatinthakur706/population-growth-in-india-1950-2024         Population Growth in India 1950-2024             1KB  2024-04-05 07:06:32            333         21  1.0              \n",
      "b'mexwell/drug-consumption-classification                     \\xf0\\x9f\\x92\\x8a Drug Consumption Classification               56KB  2024-03-28 15:02:22           2328         43  1.0              '\n",
      "startalks/pii-models                                        pii-models                                       1GB  2024-03-21 21:23:40             95         17  1.0              \n",
      "sahirmaharajj/retail-sales-analysis                         Retail Sales Analysis                            6MB  2024-03-31 15:37:11           1636         37  1.0              \n",
      "jatinthakur706/most-watched-netflix-original-shows-tv-time  Most watched Netflix original shows (TV Time)    2KB  2024-03-27 09:01:21           2777         47  1.0              \n",
      "alistairking/electricity-prices                             U.S. Electricity Prices                          1MB  2024-04-07 19:18:37            800         23  1.0              \n",
      "tanmay43sharma/goodreads-popular-books-dataset              Popular Books Dataset                          130KB  2024-03-28 09:44:18           1101         25  0.9411765        \n",
      "datascientist97/e-commerece-sales-data-2024                 E-commerece Sales Data 2024                      6MB  2024-04-05 12:32:58            954         28  1.0              \n"
     ]
    }
   ],
   "source": [
    "!kaggle datasets list"
   ]
  },
  {
   "cell_type": "markdown",
   "id": "debafa4d",
   "metadata": {},
   "source": [
    "usage: kaggle datasets list [-h] [--sort-by SORT_BY] [--min-size MIN_SIZE] [--max-size MAX_SIZE] [--file-type FILE_TYPE] [--license LICENSE_NAME] [--tags TAG_IDS] [-s SEARCH] [-m] [--user USER] [-p PAGE] [-v] \n",
    "\n",
    "Note:\n",
    "1. sort by valid options are ['hottest', 'votes', 'updated', 'active', 'published']\n",
    "2. MIN_SIZE and MAX_SIZE are in bytes\n",
    "3. file type valid options are ['all', 'csv', 'sqlite', 'json', 'bigQuery']\n",
    "\n",
    "from https://github.com/Kaggle/kaggle-api/blob/main/docs/README.md"
   ]
  },
  {
   "cell_type": "code",
   "execution_count": 2,
   "id": "8577e06c",
   "metadata": {},
   "outputs": [
    {
     "name": "stdout",
     "output_type": "stream",
     "text": [
      "ref                                                       title                                       size  lastUpdated          downloadCount  voteCount  usabilityRating  \n",
      "--------------------------------------------------------  -----------------------------------------  -----  -------------------  -------------  ---------  ---------------  \n",
      "willianoliveiragibin/time-the-internet                    time the Internet                           43KB  2024-03-28 18:36:19            860         28  1.0              \n",
      "divu2001/customer-churn-rate                              Customer Churn Rate                        262KB  2024-03-30 11:15:02            397         23  1.0              \n",
      "bhavikjikadara/mental-health-dataset                      Mental Health Dataset                        2MB  2024-03-18 06:05:16           3854         58  1.0              \n",
      "m1relly/heart-attack-prediction                           Heart Attack Prediction                    519KB  2024-04-01 18:17:52           1530         31  1.0              \n",
      "lovishbansal123/sales-of-a-supermarket                    Sales of a Supermarket                      36KB  2024-03-26 12:38:06           3243         57  1.0              \n",
      "divu2001/coffee-shop-sales-analysis                       Coffee Shop Sales Analysis                   2MB  2024-03-30 10:57:57           2195         39  1.0              \n",
      "willianoliveiragibin/annual-cause-death-numbers           Annual cause death numbers                 396KB  2024-03-17 20:52:08            903         22  1.0              \n",
      "mohdshahnawazaadil/restaurant-dataset                     Restaurant Dataset                         433KB  2024-04-03 21:42:58           1058         28  1.0              \n",
      "syedanwarafridi/vehicle-sales-data                        Vehicle Sales Data                          19MB  2024-02-21 20:16:17          26931        409  1.0              \n",
      "sahirmaharajj/employee-salaries-analysis                  Employee Salaries Analysis                 101KB  2024-03-31 16:32:47           1067         38  1.0              \n",
      "adampq/coffee-quality-with-locations-of-origin            Coffee Quality with Locations of Origin     29KB  2024-03-31 18:54:27            616         22  1.0              \n",
      "b'shriyashjagtap/fraudulent-e-commerce-transactions         \\xf0\\x9f\\x9a\\xa8 Fraudulent E-Commerce Transactions \\xf0\\x9f\\x92\\xb3     159MB  2024-04-07 03:30:07            735         30  1.0              '\n",
      "mohdshahnawazaadil/supermarket-superstore-dataset-bundle  Supermarket / Superstore Dataset Bundle    198MB  2024-04-02 10:25:15            833         28  1.0              \n",
      "lucasgalanti/home-consoles-and-gaming-sales               Home Consoles and Gaming Sales             876KB  2024-03-26 12:02:32            870         27  1.0              \n",
      "b'shruthiiiee/studio-ghibli-dataset                         Studio Ghibli Dataset \\xe2\\xad\\x90\\xef\\xb8\\x8f\\xf0\\x9f\\xab\\xa7\\xf0\\x9f\\x8c\\x80                   1KB  2024-04-04 18:01:13            302         33  0.9411765        '\n",
      "dansbecker/melbourne-housing-snapshot                     Melbourne Housing Snapshot                 451KB  2018-06-05 12:52:24         143860       1454  0.7058824        \n",
      "bhavyadhingra00020/india-rental-house-price               Indian Rental House Price                  849KB  2024-04-07 11:12:35            432         26  1.0              \n",
      "subhiarjaria09/real-estate-property-transactions-dataset  Real Estate Property Transactions Dataset  135KB  2024-04-05 08:37:15            406         32  1.0              \n",
      "arnavvvvv/spotify-music                                   Top Spotify Songs                           47KB  2024-03-06 05:20:29           9026        113  1.0              \n",
      "saurabhbadole/countries-in-conflict-dataset               Countries in Conflict Dataset (1989-2022)   22KB  2024-03-27 18:43:26            327         22  1.0              \n"
     ]
    }
   ],
   "source": [
    "!kaggle datasets list -p 2"
   ]
  },
  {
   "cell_type": "code",
   "execution_count": 3,
   "id": "2ac8c7d7",
   "metadata": {},
   "outputs": [
    {
     "name": "stdout",
     "output_type": "stream",
     "text": [
      "ref                                                    title                                                size  lastUpdated          downloadCount  voteCount  usabilityRating  \n",
      "-----------------------------------------------------  --------------------------------------------------  -----  -------------------  -------------  ---------  ---------------  \n",
      "arashnic/book-recommendation-dataset                   Book Recommendation Dataset                          24MB  2024-02-09 11:14:20          57473        319  1.0              \n",
      "jealousleopard/goodreadsbooks                          Goodreads-books                                     622KB  2020-03-09 09:18:31          65013       1796  1.0              \n",
      "jessemostipak/hotel-booking-demand                     Hotel booking demand                                  1MB  2020-02-13 01:27:20         136017       2370  1.0              \n",
      "ruchi798/bookcrossing-dataset                          Book-Crossing: User review ratings                   76MB  2021-02-17 05:14:41          12755        331  1.0              \n",
      "athu1105/book-genre-prediction                         Book Genre Prediction                                 4MB  2022-09-16 04:43:57           2230         46  1.0              \n",
      "mojtaba142/hotel-booking                               Hotel Booking                                         4MB  2021-06-29 05:15:54          21252        213  1.0              \n",
      "sootersaalu/amazon-top-50-bestselling-books-2009-2019  Amazon Top 50 Bestselling Books 2009 - 2019          15KB  2020-10-13 09:39:21          62307       1038  1.0              \n",
      "sp1thas/book-depository-dataset                        Book Depository Dataset                             409MB  2021-10-05 11:38:40           2657         53  1.0              \n",
      "imtkaggleteam/book-recommendation-good-book-api        Book Recommendation (Good book api)                 622KB  2023-08-07 14:20:34            419        107  0.7647059        \n",
      "mohamedbakhet/amazon-books-reviews                     Amazon Books Reviews                                  1GB  2022-09-13 23:04:08          12457        145  1.0              \n",
      "bahramjannesarr/goodreads-book-datasets-10m            Goodreads Book Datasets With User Rating 2M         460MB  2020-12-03 08:21:23           8827        256  0.9705882        \n",
      "drahulsingh/best-selling-books                         best-selling-books                                    6KB  2023-08-22 17:18:12           4560        131  1.0              \n",
      "deepcontractor/marvel-comic-books                      Marvel Comic Books Dataset                            4MB  2022-07-21 11:35:25           2672        148  1.0              \n",
      "saurabhbagchi/books-dataset                            Books Dataset                                        25MB  2020-10-09 05:14:41          10899         78  1.0              \n",
      "anshtanwar/top-200-trending-books-with-reviews         Top 100 Bestselling Book Reviews on Amazon          422KB  2023-11-09 06:31:02          10201         99  1.0              \n",
      "lukaanicin/book-covers-dataset                         Book covers dataset                                 275MB  2020-01-03 14:52:07           3367         65  0.85294116       \n",
      "chhavidhankhar11/amazon-books-dataset                  Amazon Books Dataset: Genre, Sub-genre, and Books   546KB  2024-02-17 13:46:26           2059         46  1.0              \n",
      "dylanjcastillo/7k-books-with-metadata                  7k Books                                              1MB  2020-02-04 20:17:23           3804         41  1.0              \n",
      "die9origephit/amazon-data-science-books                Amazon Data Science Books Dataset                   107KB  2023-01-05 03:01:16           5443         97  1.0              \n",
      "dareenalharthi/jamalon-arabic-books-dataset            Jamalon Arabic Books Dataset                          1MB  2019-08-15 18:58:06           2026         59  1.0              \n"
     ]
    }
   ],
   "source": [
    "!kaggle datasets list -s book"
   ]
  },
  {
   "cell_type": "code",
   "execution_count": 4,
   "id": "5d72e69c",
   "metadata": {},
   "outputs": [
    {
     "name": "stdout",
     "output_type": "stream",
     "text": [
      "ref                                                           title                                                size  lastUpdated          downloadCount  voteCount  usabilityRating  \n",
      "------------------------------------------------------------  -------------------------------------------------  ------  -------------------  -------------  ---------  ---------------  \n",
      "nikhilbhathi/data-scientist-salary-us-glassdoor               Data scientist salary                              1023KB  2021-12-29 15:28:13          15182        210  1.0              \n",
      "henryshan/2023-data-scientists-salary                         2023 Data Scientists Salary                          25KB  2023-12-14 10:14:34           5181         91  1.0              \n",
      "omkargowda/data-scientist-salary                              Data Scientist Salary                                88KB  2022-07-09 11:25:59           1809         70  1.0              \n",
      "jaiganeshnagidi/data-scientist-salary                         Data Scientist salary                                 2MB  2020-07-22 11:29:29           1555         29  0.7647059        \n",
      "ankitkalauni/predict-the-data-scientists-salary-in-india      Predict The Data Scientists Salary In India           2MB  2021-10-06 07:45:52           1260         41  1.0              \n",
      "andrewmvd/data-analyst-jobs                                   Data Analyst Jobs                                     2MB  2020-07-14 08:37:57          19951        555  1.0              \n",
      "piyushborhade/salary-of-data-scientists                       Salary of Data Scientists                            25KB  2023-12-03 03:47:47           1003         31  0.7647059        \n",
      "hummaamqaasim/jobs-in-data                                    Jobs and Salaries in Data Science                    76KB  2023-12-25 20:03:32          21559        323  1.0              \n",
      "andrewmvd/data-scientist-jobs                                 Data Scientist Jobs                                   4MB  2020-07-16 04:04:58           4732        104  1.0              \n",
      "b'harishkumardatalab/data-science-salary-2021-to-2023           \\xf0\\x9f\\x92\\xb0 Data Science Salary \\xf0\\x9f\\x92\\xb0  2021 to 2023                22KB  2023-08-07 16:40:17           2791         75  1.0              '\n",
      "phuchuynguyen/salary-and-moredata-scientist-analyst-engineer  Salary and more-Data Scientist, Analyst, Engineer   422KB  2021-03-25 21:21:11            523          7  0.8235294        \n",
      "andrewmvd/data-engineer-jobs                                  Data Engineer Jobs                                    3MB  2020-07-18 05:17:39           2405         39  1.0              \n",
      "murilozangari/jobs-and-salaries-in-data-field-2024            Jobs and Salaries in Data field 2024                127KB  2024-03-18 18:15:53           1903         30  0.9411765        \n",
      "nsharan/h-1b-visa                                             H-1B Visa Petitions 2011-2016                        95MB  2017-02-28 09:03:27          16239        348  0.85294116       \n",
      "inductiveanks/employee-salaries-for-different-job-roles       Employee Salaries for different job roles             7KB  2023-08-02 15:11:52           2436         43  0.88235295       \n",
      "willianoliveiragibin/salary-data-analist                      salary_data_analist                                  26KB  2023-12-19 20:38:36           1563         34  1.0              \n",
      "andrewmvd/business-analyst-jobs                               Business Analyst Job Listings                         4MB  2020-07-17 11:41:05           2217         46  1.0              \n",
      "shreyanshverma27/data-scientist-salaries-8000-companies       Data Scientist Salaries: 8000+ Companies            100KB  2023-06-15 10:38:11            649         27  1.0              \n",
      "colearninglounge/employee-attrition                           Employee Attrition                                   52KB  2020-08-26 03:38:50           6530         74  0.8235294        \n",
      "mdwaquarazam/data-science-data-analyst-and-ml-job-indeed      Indeed job (Data science /data analyst/ ML)         182KB  2022-07-27 12:11:59           2420         39  1.0              \n"
     ]
    }
   ],
   "source": [
    "!kaggle datasets list -s \"data scientist salary\""
   ]
  },
  {
   "cell_type": "code",
   "execution_count": 5,
   "id": "975f6b5e",
   "metadata": {},
   "outputs": [
    {
     "name": "stdout",
     "output_type": "stream",
     "text": [
      "Dataset URL: https://www.kaggle.com/datasets/henryshan/2023-data-scientists-salary\n",
      "License(s): Apache 2.0\n",
      "2023-data-scientists-salary.zip: Skipping, found more recently modified local copy (use --force to force download)\n"
     ]
    }
   ],
   "source": [
    "!kaggle datasets download henryshan/2023-data-scientists-salary"
   ]
  },
  {
   "cell_type": "code",
   "execution_count": 6,
   "id": "4614d14a",
   "metadata": {
    "scrolled": true
   },
   "outputs": [
    {
     "name": "stdout",
     "output_type": "stream",
     "text": [
      "Downloaded metadata to C:\\Users\\hdang\\Documents\\Development\\Kaggle\\Knowledge\\new_proj\\dataset-metadata.json\n"
     ]
    }
   ],
   "source": [
    "!kaggle datasets metadata henryshan/2023-data-scientists-salary"
   ]
  },
  {
   "cell_type": "code",
   "execution_count": 7,
   "id": "9b975f9a",
   "metadata": {},
   "outputs": [
    {
     "name": "stdout",
     "output_type": "stream",
     "text": [
      "id:henryshan/2023-data-scientists-salary\n",
      "id_no:4164244\n",
      "datasetSlugNullable:2023-data-scientists-salary\n",
      "ownerUserNullable:henryshan\n",
      "usabilityRatingNullable:1.0\n",
      "titleNullable:2023 Data Scientists Salary\n",
      "subtitleNullable:Salaries of Different Data Science Fields in the Data Science Domain\n",
      "descriptionNullable:## Summary\n",
      "The aim of this study is to investigate the factors influencing the salaries of Data Scientists. To achieve this, a dataset containing various relevant variables was utilized. This report describes the exploratory analysis conducted to understand the relationship between these factors and Data Scientists' salaries.\n",
      "\n",
      "## Introduction\n",
      "Data science is a rapidly growing field, and Data Scientists play a crucial role in analyzing and interpreting large volumes of data. As this profession becomes increasingly in demand, it is important to understand the factors that may influence Data Scientists' salaries. This analysis focuses on investigating these factors and their impact on salaries.\n",
      "\n",
      "## Dataset\n",
      "To conduct this analysis, a dataset containing relevant information about Data Scientists was used. The dataset includes the following variables:\n",
      "\n",
      "`work_year: `The year the salary was paid.\n",
      "\n",
      "`experience_level:` The experience level in the job during the year.\n",
      "\n",
      "- `EN` &gt; Entry-level / Junior\n",
      "- `MI`&gt; Mid-level / Intermediate\n",
      "- `SE` &gt; Senior-level / Expert\n",
      "- `EX` &gt; Executive-level / Director\n",
      "\n",
      "`employment_type:` The type of employment for the role.\n",
      "\n",
      "- `PT` &gt; Part-time\n",
      "- `FT` &gt; Full-time\n",
      "- `CT` &gt; Contract\n",
      "- `FL` &gt; Freelance\n",
      "\n",
      "`job_title:` The role worked in during the year.\n",
      "\n",
      "`salary:` The total gross salary amount paid.\n",
      "\n",
      "`salary_currency`: The currency of the salary paid as an ISO 4217 currency code.\n",
      "\n",
      "`salaryinusd:` The salary in USD.\n",
      "\n",
      "`employee_residence:` Employee's primary country of residence during the work year as an ISO 3166 country code.\n",
      "\n",
      "`remote_ratio:`The overall amount of work done remotely.\n",
      "\n",
      "`company_location:` The country of the employer's main office or contracting branch.\n",
      "\n",
      "`company_size`: The median number of people that worked for the company during the year.\n",
      "\n",
      "datasetId:4164244\n",
      "datasetSlug:2023-data-scientists-salary\n",
      "hasDatasetSlug:True\n",
      "ownerUser:henryshan\n",
      "hasOwnerUser:True\n",
      "usabilityRating:1.0\n",
      "hasUsabilityRating:True\n",
      "totalViews:20798\n",
      "totalVotes:91\n",
      "totalDownloads:5182\n",
      "title:2023 Data Scientists Salary\n",
      "hasTitle:True\n",
      "subtitle:Salaries of Different Data Science Fields in the Data Science Domain\n",
      "hasSubtitle:True\n",
      "description:## Summary\n",
      "The aim of this study is to investigate the factors influencing the salaries of Data Scientists. To achieve this, a dataset containing various relevant variables was utilized. This report describes the exploratory analysis conducted to understand the relationship between these factors and Data Scientists' salaries.\n",
      "\n",
      "## Introduction\n",
      "Data science is a rapidly growing field, and Data Scientists play a crucial role in analyzing and interpreting large volumes of data. As this profession becomes increasingly in demand, it is important to understand the factors that may influence Data Scientists' salaries. This analysis focuses on investigating these factors and their impact on salaries.\n",
      "\n",
      "## Dataset\n",
      "To conduct this analysis, a dataset containing relevant information about Data Scientists was used. The dataset includes the following variables:\n",
      "\n",
      "`work_year: `The year the salary was paid.\n",
      "\n",
      "`experience_level:` The experience level in the job during the year.\n",
      "\n",
      "- `EN` &gt; Entry-level / Junior\n",
      "- `MI`&gt; Mid-level / Intermediate\n",
      "- `SE` &gt; Senior-level / Expert\n",
      "- `EX` &gt; Executive-level / Director\n",
      "\n",
      "`employment_type:` The type of employment for the role.\n",
      "\n",
      "- `PT` &gt; Part-time\n",
      "- `FT` &gt; Full-time\n",
      "- `CT` &gt; Contract\n",
      "- `FL` &gt; Freelance\n",
      "\n",
      "`job_title:` The role worked in during the year.\n",
      "\n",
      "`salary:` The total gross salary amount paid.\n",
      "\n",
      "`salary_currency`: The currency of the salary paid as an ISO 4217 currency code.\n",
      "\n",
      "`salaryinusd:` The salary in USD.\n",
      "\n",
      "`employee_residence:` Employee's primary country of residence during the work year as an ISO 3166 country code.\n",
      "\n",
      "`remote_ratio:`The overall amount of work done remotely.\n",
      "\n",
      "`company_location:` The country of the employer's main office or contracting branch.\n",
      "\n",
      "`company_size`: The median number of people that worked for the company during the year.\n",
      "\n",
      "hasDescription:True\n",
      "isPrivate:False\n",
      "keywords:['business', 'education', 'computer science']\n",
      "licenses:[{'nameNullable': 'Apache 2.0', 'name': 'Apache 2.0', 'hasName': True}]\n",
      "collaborators:[]\n",
      "data:[]\n"
     ]
    }
   ],
   "source": [
    "import json\n",
    "\n",
    "# Specify the path to your JSON file\n",
    "file_path = 'dataset-metadata.json'\n",
    "\n",
    "# Open the file in read mode\n",
    "with open(file_path, 'r') as file:\n",
    "    # Load the JSON data into a Python dictionary\n",
    "    data = json.load(file)\n",
    "\n",
    "# Print Metadata\n",
    "for key, value in data.items():\n",
    "    print(f'{key}:{value}')"
   ]
  },
  {
   "cell_type": "code",
   "execution_count": 8,
   "id": "f84d1d9b",
   "metadata": {},
   "outputs": [],
   "source": [
    "# Unzip the data\n",
    "import zipfile\n",
    "with zipfile.ZipFile('2023-data-scientists-salary.zip', 'r') as zip_ref:\n",
    "    zip_ref.extractall('')"
   ]
  },
  {
   "cell_type": "code",
   "execution_count": 9,
   "id": "431e5857",
   "metadata": {},
   "outputs": [
    {
     "data": {
      "text/plain": [
       "['.ipynb_checkpoints',\n",
       " '2023-data-scientists-salary.zip',\n",
       " 'dataset-metadata.json',\n",
       " 'ds_salaries.csv',\n",
       " 'ds_salaries.db',\n",
       " 'Kaggle-Data-SQLite-Demo.ipynb']"
      ]
     },
     "execution_count": 9,
     "metadata": {},
     "output_type": "execute_result"
    }
   ],
   "source": [
    "# Check the unzip operation and get the file name\n",
    "import os\n",
    "os.listdir()"
   ]
  },
  {
   "cell_type": "code",
   "execution_count": 10,
   "id": "ae4a3c86",
   "metadata": {},
   "outputs": [
    {
     "data": {
      "text/html": [
       "<div>\n",
       "<style scoped>\n",
       "    .dataframe tbody tr th:only-of-type {\n",
       "        vertical-align: middle;\n",
       "    }\n",
       "\n",
       "    .dataframe tbody tr th {\n",
       "        vertical-align: top;\n",
       "    }\n",
       "\n",
       "    .dataframe thead th {\n",
       "        text-align: right;\n",
       "    }\n",
       "</style>\n",
       "<table border=\"1\" class=\"dataframe\">\n",
       "  <thead>\n",
       "    <tr style=\"text-align: right;\">\n",
       "      <th></th>\n",
       "      <th>work_year</th>\n",
       "      <th>experience_level</th>\n",
       "      <th>employment_type</th>\n",
       "      <th>job_title</th>\n",
       "      <th>salary</th>\n",
       "      <th>salary_currency</th>\n",
       "      <th>salary_in_usd</th>\n",
       "      <th>employee_residence</th>\n",
       "      <th>remote_ratio</th>\n",
       "      <th>company_location</th>\n",
       "      <th>company_size</th>\n",
       "    </tr>\n",
       "  </thead>\n",
       "  <tbody>\n",
       "    <tr>\n",
       "      <th>0</th>\n",
       "      <td>2023</td>\n",
       "      <td>SE</td>\n",
       "      <td>FT</td>\n",
       "      <td>Principal Data Scientist</td>\n",
       "      <td>80000</td>\n",
       "      <td>EUR</td>\n",
       "      <td>85847</td>\n",
       "      <td>ES</td>\n",
       "      <td>100</td>\n",
       "      <td>ES</td>\n",
       "      <td>L</td>\n",
       "    </tr>\n",
       "    <tr>\n",
       "      <th>1</th>\n",
       "      <td>2023</td>\n",
       "      <td>MI</td>\n",
       "      <td>CT</td>\n",
       "      <td>ML Engineer</td>\n",
       "      <td>30000</td>\n",
       "      <td>USD</td>\n",
       "      <td>30000</td>\n",
       "      <td>US</td>\n",
       "      <td>100</td>\n",
       "      <td>US</td>\n",
       "      <td>S</td>\n",
       "    </tr>\n",
       "    <tr>\n",
       "      <th>2</th>\n",
       "      <td>2023</td>\n",
       "      <td>MI</td>\n",
       "      <td>CT</td>\n",
       "      <td>ML Engineer</td>\n",
       "      <td>25500</td>\n",
       "      <td>USD</td>\n",
       "      <td>25500</td>\n",
       "      <td>US</td>\n",
       "      <td>100</td>\n",
       "      <td>US</td>\n",
       "      <td>S</td>\n",
       "    </tr>\n",
       "    <tr>\n",
       "      <th>3</th>\n",
       "      <td>2023</td>\n",
       "      <td>SE</td>\n",
       "      <td>FT</td>\n",
       "      <td>Data Scientist</td>\n",
       "      <td>175000</td>\n",
       "      <td>USD</td>\n",
       "      <td>175000</td>\n",
       "      <td>CA</td>\n",
       "      <td>100</td>\n",
       "      <td>CA</td>\n",
       "      <td>M</td>\n",
       "    </tr>\n",
       "    <tr>\n",
       "      <th>4</th>\n",
       "      <td>2023</td>\n",
       "      <td>SE</td>\n",
       "      <td>FT</td>\n",
       "      <td>Data Scientist</td>\n",
       "      <td>120000</td>\n",
       "      <td>USD</td>\n",
       "      <td>120000</td>\n",
       "      <td>CA</td>\n",
       "      <td>100</td>\n",
       "      <td>CA</td>\n",
       "      <td>M</td>\n",
       "    </tr>\n",
       "  </tbody>\n",
       "</table>\n",
       "</div>"
      ],
      "text/plain": [
       "   work_year experience_level employment_type                 job_title  \\\n",
       "0       2023               SE              FT  Principal Data Scientist   \n",
       "1       2023               MI              CT               ML Engineer   \n",
       "2       2023               MI              CT               ML Engineer   \n",
       "3       2023               SE              FT            Data Scientist   \n",
       "4       2023               SE              FT            Data Scientist   \n",
       "\n",
       "   salary salary_currency  salary_in_usd employee_residence  remote_ratio  \\\n",
       "0   80000             EUR          85847                 ES           100   \n",
       "1   30000             USD          30000                 US           100   \n",
       "2   25500             USD          25500                 US           100   \n",
       "3  175000             USD         175000                 CA           100   \n",
       "4  120000             USD         120000                 CA           100   \n",
       "\n",
       "  company_location company_size  \n",
       "0               ES            L  \n",
       "1               US            S  \n",
       "2               US            S  \n",
       "3               CA            M  \n",
       "4               CA            M  "
      ]
     },
     "execution_count": 10,
     "metadata": {},
     "output_type": "execute_result"
    }
   ],
   "source": [
    "# pre-lim data reading with pandas\n",
    "import pandas as pd\n",
    "\n",
    "df = pd.read_csv('ds_salaries.csv')\n",
    "df.head()"
   ]
  },
  {
   "cell_type": "code",
   "execution_count": 11,
   "id": "36ea04f4",
   "metadata": {},
   "outputs": [
    {
     "data": {
      "text/plain": [
       "(3755, 11)"
      ]
     },
     "execution_count": 11,
     "metadata": {},
     "output_type": "execute_result"
    }
   ],
   "source": [
    "df.shape"
   ]
  },
  {
   "cell_type": "code",
   "execution_count": 12,
   "id": "383304fe",
   "metadata": {},
   "outputs": [],
   "source": [
    "# Create a little database for this data with SQLite3\n",
    "import sqlite3\n",
    "import csv\n",
    "\n",
    "# path to csv file\n",
    "file = 'ds_salaries.csv'\n",
    "\n",
    "# path to db\n",
    "db = 'ds_salaries.db'\n",
    "\n",
    "# Connect to the SQLite database\n",
    "conn = sqlite3.connect(db)\n",
    "cursor = conn.cursor()\n",
    "\n",
    "# Create a table to store the data\n",
    "cursor.execute('''CREATE TABLE IF NOT EXISTS sal (\n",
    "                    year INTEGER,\n",
    "                    exp_level VARCHAR(2),\n",
    "                    employment_type VARCHAR(2),\n",
    "                    job_title VARCHAR(256),\n",
    "                    salary INTEGER,\n",
    "                    salary_currency VARCHAR(10),\n",
    "                    salary_in_usd INTEGER, \n",
    "                    employee_residence VARCHAR(10),\n",
    "                    remote_ratio INTEGER,\n",
    "                    company_location VARCHAR(10),\n",
    "                    company_size VARCHAR(1)\n",
    "                  )''')\n",
    "\n",
    "# Read the CSV file and insert data into the database\n",
    "with open(file, 'r') as file:\n",
    "    csv_reader = csv.reader(file)\n",
    "    next(csv_reader)  # Skip the header row\n",
    "    for row in csv_reader:\n",
    "        cursor.execute('''INSERT INTO sal (year,\n",
    "                                           exp_level, \n",
    "                                           employment_type,\n",
    "                                           job_title,\n",
    "                                           salary,\n",
    "                                           salary_currency,\n",
    "                                           salary_in_usd,\n",
    "                                           employee_residence,\n",
    "                                           remote_ratio,\n",
    "                                           company_location,\n",
    "                                           company_size) VALUES (?, ?, ?, ?, ?,?,?,?,?,?,?)''', row)\n",
    "# Commit the changes and close the connection\n",
    "conn.commit()\n",
    "conn.close()"
   ]
  },
  {
   "cell_type": "code",
   "execution_count": 13,
   "id": "426e623c",
   "metadata": {},
   "outputs": [
    {
     "name": "stdout",
     "output_type": "stream",
     "text": [
      "(2023, 'SE', 'FT', 'Principal Data Scientist', 80000, 'EUR', 85847, 'ES', 100, 'ES', 'L')\n",
      "(2023, 'MI', 'CT', 'ML Engineer', 30000, 'USD', 30000, 'US', 100, 'US', 'S')\n",
      "(2023, 'MI', 'CT', 'ML Engineer', 25500, 'USD', 25500, 'US', 100, 'US', 'S')\n",
      "(2023, 'SE', 'FT', 'Data Scientist', 175000, 'USD', 175000, 'CA', 100, 'CA', 'M')\n",
      "(2023, 'SE', 'FT', 'Data Scientist', 120000, 'USD', 120000, 'CA', 100, 'CA', 'M')\n"
     ]
    }
   ],
   "source": [
    "# Confirm data has been loaded by reading from the database\n",
    "conn = sqlite3.connect(db)\n",
    "cursor = conn.cursor()\n",
    "cursor.execute('SELECT * FROM sal LIMIT 5')\n",
    "rows = cursor.fetchall()\n",
    "for row in rows:\n",
    "    print(row)\n",
    "\n",
    "conn.close()"
   ]
  },
  {
   "cell_type": "code",
   "execution_count": 14,
   "id": "7ade2feb",
   "metadata": {},
   "outputs": [
    {
     "data": {
      "text/html": [
       "<div>\n",
       "<style scoped>\n",
       "    .dataframe tbody tr th:only-of-type {\n",
       "        vertical-align: middle;\n",
       "    }\n",
       "\n",
       "    .dataframe tbody tr th {\n",
       "        vertical-align: top;\n",
       "    }\n",
       "\n",
       "    .dataframe thead th {\n",
       "        text-align: right;\n",
       "    }\n",
       "</style>\n",
       "<table border=\"1\" class=\"dataframe\">\n",
       "  <thead>\n",
       "    <tr style=\"text-align: right;\">\n",
       "      <th></th>\n",
       "      <th>employment_type</th>\n",
       "      <th>avg_sal</th>\n",
       "    </tr>\n",
       "  </thead>\n",
       "  <tbody>\n",
       "    <tr>\n",
       "      <th>0</th>\n",
       "      <td>CT</td>\n",
       "      <td>137062.50</td>\n",
       "    </tr>\n",
       "    <tr>\n",
       "      <th>1</th>\n",
       "      <td>FL</td>\n",
       "      <td>57500.00</td>\n",
       "    </tr>\n",
       "    <tr>\n",
       "      <th>2</th>\n",
       "      <td>FT</td>\n",
       "      <td>152214.25</td>\n",
       "    </tr>\n",
       "    <tr>\n",
       "      <th>3</th>\n",
       "      <td>PT</td>\n",
       "      <td>36823.33</td>\n",
       "    </tr>\n",
       "  </tbody>\n",
       "</table>\n",
       "</div>"
      ],
      "text/plain": [
       "  employment_type    avg_sal\n",
       "0              CT  137062.50\n",
       "1              FL   57500.00\n",
       "2              FT  152214.25\n",
       "3              PT   36823.33"
      ]
     },
     "execution_count": 14,
     "metadata": {},
     "output_type": "execute_result"
    }
   ],
   "source": [
    "#What is the average salary\n",
    "conn = sqlite3.connect(db)\n",
    "query = '''\n",
    "            SELECT employment_type, round(avg(salary_in_usd),2) avg_sal\n",
    "            FROM sal \n",
    "            WHERE company_location = 'US'\n",
    "            GROUP BY 1;\n",
    "'''\n",
    "df_result = pd.read_sql_query(query, conn)\n",
    "conn.close()\n",
    "df_result"
   ]
  },
  {
   "cell_type": "code",
   "execution_count": 18,
   "id": "f388ee09",
   "metadata": {},
   "outputs": [
    {
     "data": {
      "text/plain": [
       "<AxesSubplot:xlabel='employment_type'>"
      ]
     },
     "execution_count": 18,
     "metadata": {},
     "output_type": "execute_result"
    },
    {
     "data": {
      "image/png": "[encoded data removed]",
      "text/plain": [
       "<Figure size 432x288 with 1 Axes>"
      ]
     },
     "metadata": {
      "needs_background": "light"
     },
     "output_type": "display_data"
    }
   ],
   "source": [
    "df_result.plot(x = 'employment_type', kind = 'bar')"
   ]
  },
  {
   "cell_type": "markdown",
   "id": "1beb336a",
   "metadata": {},
   "source": [
    "# Machine Learning\n",
    "\n",
    "## EDA\n",
    "\n",
    "### 1-D"
   ]
  },
  {
   "cell_type": "code",
   "execution_count": null,
   "id": "92184df2",
   "metadata": {},
   "outputs": [],
   "source": []
  }
 ],
 "metadata": {
  "kernelspec": {
   "display_name": "Python 3 (ipykernel)",
   "language": "python",
   "name": "python3"
  },
  "language_info": {
   "codemirror_mode": {
    "name": "ipython",
    "version": 3
   },
   "file_extension": ".py",
   "mimetype": "text/x-python",
   "name": "python",
   "nbconvert_exporter": "python",
   "pygments_lexer": "ipython3",
   "version": "3.9.12"
  }
 },
 "nbformat": 4,
 "nbformat_minor": 5
}
