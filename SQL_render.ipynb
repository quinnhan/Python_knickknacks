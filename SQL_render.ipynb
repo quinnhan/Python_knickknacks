{
 "cells": [
  {
   "cell_type": "code",
   "execution_count": 13,
   "metadata": {},
   "outputs": [],
   "source": [
    "# This piece of code will convert csv to SQL syntax that you can use to practice SQL skill\n",
    "\n",
    "def render_SQL_data(csv_file_path):\n",
    "    import pandas as pd\n",
    "    \n",
    "    #read the file duhhh....\n",
    "    file = pd.read_csv(csv_file_path)\n",
    "    file_df = pd.DataFrame(file)\n",
    "    txt_file_path = csv_file_path[0:-4] + '.txt'\n",
    "\n",
    "    #initialize some varibles\n",
    "    values = \"\"\n",
    "    txt_file = open(txt_file_path,\"w\") # I want to override existent data in the file. It's okay for \"a\" mode, just duplications\n",
    "\n",
    "    #read the line and render SQL values\n",
    "    for index, record in file_df.iterrows():\n",
    "        value = \"(\" #to append each field here\n",
    "        for field in record:\n",
    "            if field == record.iloc[-1]: \n",
    "                field = str(field)\n",
    "                value = value + '\\''+ field.strip() + '\\')' #when it gets to the last column, it's a bit different\n",
    "                values = value + \",\\n\"\n",
    "                # print(values) : this was here to test if my string is render correctly\n",
    "                txt_file.write(values)\n",
    "            else: \n",
    "                field = str(field)\n",
    "                value = value + '\\'' + field.strip() + '\\','\n",
    "\n",
    "    #close the text file\n",
    "    txt_file.close()"
   ]
  },
  {
   "cell_type": "code",
   "execution_count": 14,
   "metadata": {
    "collapsed": true
   },
   "outputs": [],
   "source": [
    "render_SQL_data(\"Documents/Python/UKUsedCars/audi.csv\")"
   ]
  },
  {
   "cell_type": "code",
   "execution_count": null,
   "metadata": {
    "collapsed": true
   },
   "outputs": [],
   "source": []
  }
 ],
 "metadata": {
  "kernelspec": {
   "display_name": "Python 3",
   "language": "python",
   "name": "python3"
  }
 },
 "nbformat": 4,
 "nbformat_minor": 2
}
